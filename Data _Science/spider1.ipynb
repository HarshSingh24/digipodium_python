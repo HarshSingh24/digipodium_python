{
 "cells": [
  {
   "cell_type": "code",
   "execution_count": null,
   "metadata": {},
   "outputs": [
    {
     "ename": "ModuleNotFoundError",
     "evalue": "No module named 'dputils'",
     "output_type": "error",
     "traceback": [
      "\u001b[1;31m---------------------------------------------------------------------------\u001b[0m",
      "\u001b[1;31mModuleNotFoundError\u001b[0m                       Traceback (most recent call last)",
      "\u001b[1;32m<ipython-input-1-e7a42584604d>\u001b[0m in \u001b[0;36m<module>\u001b[1;34m\u001b[0m\n\u001b[1;32m----> 1\u001b[1;33m \u001b[1;32mfrom\u001b[0m \u001b[0mdputils\u001b[0m \u001b[1;32mimport\u001b[0m \u001b[0mscrape\u001b[0m \u001b[1;32mas\u001b[0m \u001b[0msc\u001b[0m\u001b[1;33m\u001b[0m\u001b[1;33m\u001b[0m\u001b[0m\n\u001b[0m",
      "\u001b[1;31mModuleNotFoundError\u001b[0m: No module named 'dputils'"
     ]
    }
   ],
   "source": [
    "from dputils import scrape as sc"
   ]
  },
  {
   "cell_type": "code",
   "execution_count": 1,
   "metadata": {},
   "outputs": [],
   "source": [
    "from dputils import scrape as sc"
   ]
  },
  {
   "cell_type": "code",
   "execution_count": 3,
   "metadata": {},
   "outputs": [],
   "source": [
    "url = 'https://www.amazon.in/s?k=mobile&ref=nb_sb_noss'\n",
    "soup = sc.get_webpage_data(url)"
   ]
  },
  {
   "cell_type": "code",
   "execution_count": 4,
   "metadata": {},
   "outputs": [
    {
     "data": {
      "text/plain": [
       "<title>Amazon.in : mobile</title>"
      ]
     },
     "execution_count": 4,
     "metadata": {},
     "output_type": "execute_result"
    }
   ],
   "source": [
    "soup.find('title')"
   ]
  },
  {
   "cell_type": "code",
   "execution_count": 5,
   "metadata": {},
   "outputs": [],
   "source": [
    "target = {\n",
    "    'tag':'div',\n",
    "    'attrs':{\n",
    "        'class':'s-main-slot s-result-list s-search-results sg-row'}\n",
    "}"
   ]
  },
  {
   "cell_type": "code",
   "execution_count": 11,
   "metadata": {},
   "outputs": [],
   "source": [
    "items = {\n",
    "    'tag':'div',\n",
    "    'attrs':{\n",
    "        'class':'s-result-item'}\n",
    "}"
   ]
  },
  {
   "cell_type": "code",
   "execution_count": 6,
   "metadata": {},
   "outputs": [],
   "source": [
    "title = {\n",
    "    'tag':'h2',\n",
    "    'attrs':{\n",
    "        'class':'a-size-mini a-spacing-none a-color-base s-line-clamp-2'\n",
    "    }\n",
    "}"
   ]
  },
  {
   "cell_type": "code",
   "execution_count": 8,
   "metadata": {},
   "outputs": [],
   "source": [
    "price = {\n",
    "    'tag':'span',\n",
    "    'attrs':{\n",
    "        'class':'a-price-whole'\n",
    "    }\n",
    "}"
   ]
  },
  {
   "cell_type": "code",
   "execution_count": 12,
   "metadata": {},
   "outputs": [
    {
     "name": "stdout",
     "output_type": "stream",
     "text": [
      "31 items found\n",
      "Item skipped at index: 0\n",
      "Item skipped at index: 1\n",
      "Item skipped at index: 8\n",
      "Item skipped at index: 18\n",
      "Item skipped at index: 27\n",
      "Item skipped at index: 28\n",
      "Item skipped at index: 29\n",
      "Item skipped at index: 30\n",
      "All items extracted\n"
     ]
    }
   ],
   "source": [
    "output = sc.extract_many(soup,\n",
    "                        target=target,\n",
    "                        items = items,\n",
    "                        title=title,\n",
    "                        price=price)"
   ]
  },
  {
   "cell_type": "code",
   "execution_count": 13,
   "metadata": {},
   "outputs": [
    {
     "name": "stdout",
     "output_type": "stream",
     "text": [
      "[{'price': '13,999',\n",
      "  'title': 'Samsung Galaxy M13 (Aqua Green, 6GB, 128GB Storage) | 6000mAh '\n",
      "           'Battery | Upto 12GB RAM with RAM Plus | 2000 Instant Discount on '\n",
      "           'SBI Credit Cards Valid Till 10th August'},\n",
      " {'price': '18,999',\n",
      "  'title': 'Samsung Galaxy M33 5G (Mystique Green, 6GB, 128GB Storage) | '\n",
      "           '6000mAh Battery | Upto 12GB RAM with RAM Plus | Travel Adapter to '\n",
      "           'be Purchased Separately'},\n",
      " {'price': '6,999',\n",
      "  'title': 'Redmi 9A Sport (Coral Green, 2GB RAM, 32GB Storage) | 2GHz '\n",
      "           'Octa-core Helio G25 Processor | 5000 mAh Battery'},\n",
      " {'price': '11,990',\n",
      "  'title': 'OPPO A31 (Mystery Black, 6GB RAM, 128GB Storage) with No Cost '\n",
      "           'EMI/Additional Exchange Offers'},\n",
      " {'price': '14,990',\n",
      "  'title': 'OPPO A74 5G (Fantastic Purple,6GB RAM,128GB Storage) with No Cost '\n",
      "           'EMI/Additional Exchange Offers'},\n",
      " {'price': '18,999',\n",
      "  'title': 'Redmi Note 11 Pro (Stealth Black, 6GB RAM, 128GB Storage) | 67W '\n",
      "           'Turbo Charge | 120Hz Super AMOLED Display'},\n",
      " {'price': '8,999',\n",
      "  'title': 'Redmi 9 Activ (Coral Green, 4GB RAM, 64GB Storage)'},\n",
      " {'price': '9,990',\n",
      "  'title': 'OPPO A15s (Rainbow Silver, 4GB RAM, 64GB Storage) With No Cost '\n",
      "           'EMI/Additional Exchange Offers'},\n",
      " {'price': '14,999',\n",
      "  'title': 'Redmi Note 11T 5G (Matte Black, 6GB RAM, 128GB ROM)| Dimensity 810 '\n",
      "           '5G | 33W Pro Fast Charging | Charger Included | Additional '\n",
      "           'Exchange Offers|Get 2 Months of YouTube Premium Free!'},\n",
      " {'price': '12,999',\n",
      "  'title': 'Redmi 10 Prime (Phantom Black 6GB RAM 128GB ROM |Helio G88 with '\n",
      "           'extendable RAM Upto 2GB |FHD+ 90Hz Adaptive Sync Display)'},\n",
      " {'price': '8,799', 'title': 'Redmi 10A (Slate Grey, 4GB RAM, 64GB Storage)'},\n",
      " {'price': '11,299',\n",
      "  'title': 'Nokia C21 Plus Android Smartphone, Dual SIM, 3-Day Battery Life, '\n",
      "           '4GB RAM + 64GB Storage, 13MP Dual Camera with HDR | Warm Grey'},\n",
      " {'price': '17,990',\n",
      "  'title': 'Vivo Y33T (Mirror Black, 8GB RAM, 128GB ROM) Without Offers, '\n",
      "           '(PD2142BF_Mirror Black_1)'},\n",
      " {'price': '10,999',\n",
      "  'title': 'Redmi 10 Prime (Phantom Black 4GB RAM 64GB | Helio G88 with '\n",
      "           'extendable RAM Upto 2GB | FHD+ 90Hz Adaptive Sync Display)'},\n",
      " {'price': '14,990',\n",
      "  'title': 'OPPO A74 5G (Fluid Black, 6GB RAM, 128GB Storage) with No Cost '\n",
      "           'EMI/Additional Exchange Offers'},\n",
      " {'price': '6,999',\n",
      "  'title': 'Redmi 9A Sport (Metallic Blue, 2GB RAM, 32GB Storage) | 2GHz '\n",
      "           'Octa-core Helio G25 Processor | 5000 mAh Battery'},\n",
      " {'price': '6,999',\n",
      "  'title': 'Redmi 9A Sport (Carbon Black, 2GB RAM, 32GB Storage) | 2GHz '\n",
      "           'Octa-core Helio G25 Processor | 5000 mAh Battery'},\n",
      " {'price': '18,999',\n",
      "  'title': 'OnePlus Nord CE 2 Lite 5G (Black Dusk, 6GB RAM, 128GB Storage)'},\n",
      " {'price': '4,737',\n",
      "  'title': 'JioPhone Next 32 GB ROM, 2 GB RAM, Blue Smartphone'},\n",
      " {'price': '11,999',\n",
      "  'title': 'Samsung Galaxy M13 (Midnight Blue, 4GB, 64GB Storage) | 6000mAh '\n",
      "           'Battery | Upto 8GB RAM with RAM Plus | 2000 Instant Discount on '\n",
      "           'SBI Credit Cards Valid Till 10th August'},\n",
      " {'price': '13,999',\n",
      "  'title': 'Samsung Galaxy M12 (Blue,6GB RAM, 128GB Storage) 6 Months Free '\n",
      "           'Screen Replacement for Prime'},\n",
      " {'price': '25,999',\n",
      "  'title': 'Redmi K50i 5G (Stealth Black, 6GB RAM, 128GB Storage) | Flagship '\n",
      "           'Mediatek Dimensity 8100 Processor | 144Hz Liquid FFS Display | '\n",
      "           'Alexa Built-in'},\n",
      " {'price': '39,990',\n",
      "  'title': 'Samsung Galaxy S20 FE 5G (Cloud Navy, 8GB RAM, 128GB Storage) with '\n",
      "           'No Cost EMI & Additional Exchange Offers'}]\n"
     ]
    }
   ],
   "source": [
    "from pprint import pprint\n",
    "pprint(output)"
   ]
  }
 ],
 "metadata": {
  "kernelspec": {
   "display_name": "Python 3.10.0 64-bit",
   "language": "python",
   "name": "python3"
  },
  "language_info": {
   "codemirror_mode": {
    "name": "ipython",
    "version": 3
   },
   "file_extension": ".py",
   "mimetype": "text/x-python",
   "name": "python",
   "nbconvert_exporter": "python",
   "pygments_lexer": "ipython3",
   "version": "3.10.0"
  },
  "orig_nbformat": 4,
  "vscode": {
   "interpreter": {
    "hash": "fb4569285eef3a3450cb62085a5b1e0da4bce0af555edc33dcf29baf3acc1368"
   }
  }
 },
 "nbformat": 4,
 "nbformat_minor": 2
}
