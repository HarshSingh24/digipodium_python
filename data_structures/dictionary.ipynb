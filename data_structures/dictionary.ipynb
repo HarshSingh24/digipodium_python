{
 "cells": [
  {
   "cell_type": "code",
   "execution_count": 1,
   "metadata": {},
   "outputs": [
    {
     "name": "stdout",
     "output_type": "stream",
     "text": [
      "{'alan': 30, 'brian': 50}\n"
     ]
    }
   ],
   "source": [
    "mark_dict = {'alan' : 30, 'brian' : 50}\n",
    "print(mark_dict)"
   ]
  },
  {
   "cell_type": "code",
   "execution_count": 2,
   "metadata": {},
   "outputs": [
    {
     "data": {
      "text/plain": [
       "50"
      ]
     },
     "execution_count": 2,
     "metadata": {},
     "output_type": "execute_result"
    }
   ],
   "source": [
    "mark_dict['brian']"
   ]
  },
  {
   "cell_type": "code",
   "execution_count": 1,
   "metadata": {},
   "outputs": [],
   "source": [
    "marks_dict_v2 = {\n",
    "    'student 1': {\n",
    "        'name': 'Alan',\n",
    "        'cgpa' : 8.3\n",
    "    },\n",
    "    'student 2': {\n",
    "        'name': 'Brian',\n",
    "        'cgpa' : 7.5\n",
    "    },\n",
    "    'student 3': {\n",
    "        'name': 'Charles',\n",
    "        'cgpa' : 9.0\n",
    "    }\n",
    "}"
   ]
  },
  {
   "cell_type": "code",
   "execution_count": 2,
   "metadata": {},
   "outputs": [
    {
     "name": "stdout",
     "output_type": "stream",
     "text": [
      "{'name': 'Alan', 'cgpa': 8.3}\n"
     ]
    }
   ],
   "source": [
    "print(marks_dict_v2['student 1'])"
   ]
  },
  {
   "cell_type": "code",
   "execution_count": 3,
   "metadata": {},
   "outputs": [
    {
     "name": "stdout",
     "output_type": "stream",
     "text": [
      "Alan\n"
     ]
    }
   ],
   "source": [
    "print(marks_dict_v2['student 1']['name'])"
   ]
  },
  {
   "cell_type": "code",
   "execution_count": 4,
   "metadata": {},
   "outputs": [
    {
     "name": "stdout",
     "output_type": "stream",
     "text": [
      "8.3\n"
     ]
    }
   ],
   "source": [
    "print(marks_dict_v2['student 1']['cgpa'])"
   ]
  },
  {
   "cell_type": "code",
   "execution_count": 5,
   "metadata": {},
   "outputs": [],
   "source": [
    "movies = {\n",
    "    'Inception': {\n",
    "        'year': 2010,\n",
    "        'rating': 8.8,\n",
    "        'overview': 'A thief, who steals corporate secrets through use of dream-sharing technology.'\n",
    "    },\n",
    "    'The Dark Knight': {\n",
    "        'year': 2008,\n",
    "        'rating': 9.0,\n",
    "        'overview': 'Batman vs Joker.'\n",
    "    },\n",
    "    'Interstellar': {\n",
    "        'year': 2014,\n",
    "        'rating': 8.6,\n",
    "        'overview':'its complicated'\n",
    "    }\n",
    "}"
   ]
  },
  {
   "cell_type": "code",
   "execution_count": 6,
   "metadata": {},
   "outputs": [
    {
     "data": {
      "text/plain": [
       "9.0"
      ]
     },
     "execution_count": 6,
     "metadata": {},
     "output_type": "execute_result"
    }
   ],
   "source": [
    "movies.get('The Dark Knight').get('rating')"
   ]
  },
  {
   "cell_type": "code",
   "execution_count": 7,
   "metadata": {},
   "outputs": [
    {
     "name": "stdout",
     "output_type": "stream",
     "text": [
      "{'Inception': {'year': 2010, 'rating': 8.9, 'overview': 'A thief, who steals corporate secrets through use of dream-sharing technology.'}, 'The Dark Knight': {'year': 2008, 'rating': 9.0, 'overview': 'Batman vs Joker.'}, 'Interstellar': {'year': 2014, 'rating': 8.6, 'overview': 'its complicated'}}\n"
     ]
    }
   ],
   "source": [
    "movies['Inception']['rating'] = 8.9\n",
    "print(movies)"
   ]
  },
  {
   "cell_type": "code",
   "execution_count": 8,
   "metadata": {},
   "outputs": [
    {
     "name": "stdout",
     "output_type": "stream",
     "text": [
      "{'Inception': {'year': 2010, 'rating': 8.9, 'overview': 'A thief, who steals corporate secrets through use of dream-sharing technology.', 'studio': 'Warner Bros'}, 'The Dark Knight': {'year': 2008, 'rating': 9.0, 'overview': 'Batman vs Joker.'}, 'Interstellar': {'year': 2014, 'rating': 8.6, 'overview': 'its complicated'}}\n"
     ]
    }
   ],
   "source": [
    "movies['Inception']['studio']='Warner Bros'\n",
    "print(movies)"
   ]
  },
  {
   "cell_type": "code",
   "execution_count": 9,
   "metadata": {},
   "outputs": [
    {
     "name": "stdout",
     "output_type": "stream",
     "text": [
      "Inception\n",
      "----------\n",
      "year => 2010\n",
      "rating => 8.9\n",
      "overview => A thief, who steals corporate secrets through use of dream-sharing technology.\n",
      "studio => Warner Bros\n",
      "The Dark Knight\n",
      "----------\n",
      "year => 2008\n",
      "rating => 9.0\n",
      "overview => Batman vs Joker.\n",
      "Interstellar\n",
      "----------\n",
      "year => 2014\n",
      "rating => 8.6\n",
      "overview => its complicated\n"
     ]
    }
   ],
   "source": [
    "for name,detail in movies.items():\n",
    "    print(name)\n",
    "    print('----------')\n",
    "    for k,v in detail.items():\n",
    "        print(k,'=>',v)"
   ]
  },
  {
   "cell_type": "markdown",
   "metadata": {},
   "source": [
    "# Functions"
   ]
  },
  {
   "cell_type": "code",
   "execution_count": 13,
   "metadata": {},
   "outputs": [],
   "source": [
    "marks_dict = {'Alan' : 30, 'Brian' : 50, 'Charles' : 60, 'David' : 70, 'Eric' : 80, 'Frank' : 90}"
   ]
  },
  {
   "cell_type": "code",
   "execution_count": 14,
   "metadata": {},
   "outputs": [
    {
     "name": "stdout",
     "output_type": "stream",
     "text": [
      "dict_keys(['Alan', 'Brian', 'Charles', 'David', 'Eric', 'Frank'])\n"
     ]
    }
   ],
   "source": [
    "print(marks_dict.keys())"
   ]
  },
  {
   "cell_type": "code",
   "execution_count": 15,
   "metadata": {},
   "outputs": [
    {
     "name": "stdout",
     "output_type": "stream",
     "text": [
      "dict_values([30, 50, 60, 70, 80, 90])\n"
     ]
    }
   ],
   "source": [
    "print(marks_dict.values())"
   ]
  },
  {
   "cell_type": "code",
   "execution_count": 16,
   "metadata": {},
   "outputs": [
    {
     "name": "stdout",
     "output_type": "stream",
     "text": [
      "dict_items([('Alan', 30), ('Brian', 50), ('Charles', 60), ('David', 70), ('Eric', 80), ('Frank', 90)])\n"
     ]
    }
   ],
   "source": [
    "print(marks_dict.items())"
   ]
  },
  {
   "cell_type": "code",
   "execution_count": 18,
   "metadata": {},
   "outputs": [],
   "source": [
    "# we dont have any method to add item to dictionary, instead we  use this\n",
    "marks_dict['Eliza'] = 90"
   ]
  },
  {
   "cell_type": "code",
   "execution_count": 19,
   "metadata": {},
   "outputs": [],
   "source": [
    "marks_dict.update({'Grace':39,'Erica':99,'Alex':100})"
   ]
  },
  {
   "cell_type": "code",
   "execution_count": 20,
   "metadata": {},
   "outputs": [
    {
     "name": "stdout",
     "output_type": "stream",
     "text": [
      "{'Alan': 30, 'Brian': 50, 'Charles': 60, 'David': 70, 'Eric': 80, 'Frank': 90, 'Eliza': 90, 'Grace': 39, 'Erica': 99, 'Alex': 100}\n"
     ]
    }
   ],
   "source": [
    "print(marks_dict)"
   ]
  },
  {
   "cell_type": "code",
   "execution_count": 21,
   "metadata": {},
   "outputs": [
    {
     "name": "stdout",
     "output_type": "stream",
     "text": [
      "{'Alan': 30, 'Brian': 50, 'Charles': 60, 'David': 70, 'Eric': 80, 'Frank': 90, 'Eliza': 90, 'Erica': 99, 'Alex': 100}\n"
     ]
    }
   ],
   "source": [
    "marks_dict.pop('Grace')\n",
    "print(marks_dict)"
   ]
  },
  {
   "cell_type": "code",
   "execution_count": 22,
   "metadata": {},
   "outputs": [
    {
     "name": "stdout",
     "output_type": "stream",
     "text": [
      "{'Alan': 30, 'Brian': 50, 'Charles': 60, 'David': 70, 'Eric': 80, 'Frank': 90, 'Erica': 99, 'Alex': 100}\n",
      "90\n"
     ]
    }
   ],
   "source": [
    "item_dat_was_removed = marks_dict.pop('Eliza')\n",
    "print(marks_dict)\n",
    "print(item_dat_was_removed)"
   ]
  },
  {
   "cell_type": "code",
   "execution_count": 23,
   "metadata": {},
   "outputs": [
    {
     "data": {
      "text/plain": [
       "30"
      ]
     },
     "execution_count": 23,
     "metadata": {},
     "output_type": "execute_result"
    }
   ],
   "source": [
    "marks_dict.get('Alan') # no error, it will return None"
   ]
  },
  {
   "cell_type": "code",
   "execution_count": 24,
   "metadata": {},
   "outputs": [
    {
     "data": {
      "text/plain": [
       "100"
      ]
     },
     "execution_count": 24,
     "metadata": {},
     "output_type": "execute_result"
    }
   ],
   "source": [
    "marks_dict.get('Alex','n/a')"
   ]
  },
  {
   "cell_type": "code",
   "execution_count": 25,
   "metadata": {},
   "outputs": [
    {
     "data": {
      "text/plain": [
       "'n/a'"
      ]
     },
     "execution_count": 25,
     "metadata": {},
     "output_type": "execute_result"
    }
   ],
   "source": [
    "marks_dict.get('Fred','n/a')"
   ]
  }
 ],
 "metadata": {
  "kernelspec": {
   "display_name": "Python 3.8.8 ('base')",
   "language": "python",
   "name": "python3"
  },
  "language_info": {
   "codemirror_mode": {
    "name": "ipython",
    "version": 3
   },
   "file_extension": ".py",
   "mimetype": "text/x-python",
   "name": "python",
   "nbconvert_exporter": "python",
   "pygments_lexer": "ipython3",
   "version": "3.8.8"
  },
  "orig_nbformat": 4,
  "vscode": {
   "interpreter": {
    "hash": "ca08f4fd3d10d30b486b27191fa1c2c4b25013b0c38d10c19ef95dee5a2a07e8"
   }
  }
 },
 "nbformat": 4,
 "nbformat_minor": 2
}
